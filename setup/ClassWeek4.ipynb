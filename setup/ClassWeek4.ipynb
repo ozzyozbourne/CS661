{
 "cells": [
  {
   "cell_type": "code",
   "execution_count": 5,
   "id": "07c72f53-6624-4f1a-b134-f31b7794b024",
   "metadata": {},
   "outputs": [
    {
     "name": "stdout",
     "output_type": "stream",
     "text": [
      "The value of the addition function       -> 15\n",
      "The value of the multiplication function -> 120\n",
      "The value of square of a number          -> 16\n",
      "The value of power of x to y             -> 256.0\n",
      "The value square root if a number        -> 2.0\n"
     ]
    }
   ],
   "source": [
    "import my_module as mp\n",
    "\n",
    "print(f'The value of the addition function       -> {mp.addition(1,2, 3, 4, 5)}')\n",
    "print(f'The value of the multiplication function -> {mp.multiplication(1,2, 3, 4, 5)}')\n",
    "print(f'The value of square of a number          -> {mp.square_num(4)}')\n",
    "print(f'The value of power of x to y             -> {mp.power_num(4, 4)}')\n",
    "print(f'The value square root if a number        -> {mp.square_root(4)}')\n"
   ]
  },
  {
   "cell_type": "code",
   "execution_count": null,
   "id": "a94a3f7e-6683-42f3-b84a-3650c7c4a01a",
   "metadata": {},
   "outputs": [],
   "source": [
    "#project caluclate the tax"
   ]
  },
  {
   "cell_type": "code",
   "execution_count": 12,
   "id": "9ca48adb-209d-4694-befc-8e5d41a0052a",
   "metadata": {},
   "outputs": [
    {
     "data": {
      "text/plain": [
       "[1, 4, 9, 16, 25]"
      ]
     },
     "execution_count": 12,
     "metadata": {},
     "output_type": "execute_result"
    }
   ],
   "source": [
    "list(map(lambda x: x * x, [1, 2, 3, 4, 5]))"
   ]
  },
  {
   "cell_type": "code",
   "execution_count": 14,
   "id": "df156475-6383-4830-b9d6-fd173e863fd2",
   "metadata": {},
   "outputs": [
    {
     "name": "stdout",
     "output_type": "stream",
     "text": [
      "[2, 4, 6, 8, 10]\n"
     ]
    }
   ],
   "source": [
    "print(list(filter(lambda x: (x & 1) == 0,  [1, 2, 3, 4, 5, 6, 7, 8, 9, 10]) ))"
   ]
  }
 ],
 "metadata": {
  "kernelspec": {
   "display_name": "Python 3 (ipykernel)",
   "language": "python",
   "name": "python3"
  },
  "language_info": {
   "codemirror_mode": {
    "name": "ipython",
    "version": 3
   },
   "file_extension": ".py",
   "mimetype": "text/x-python",
   "name": "python",
   "nbconvert_exporter": "python",
   "pygments_lexer": "ipython3",
   "version": "3.12.5"
  }
 },
 "nbformat": 4,
 "nbformat_minor": 5
}
