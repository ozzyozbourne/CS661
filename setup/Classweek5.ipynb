{
 "cells": [
  {
   "cell_type": "code",
   "execution_count": 68,
   "id": "176f25b3-4651-47cf-953b-2bad558f4245",
   "metadata": {},
   "outputs": [],
   "source": [
    "class Test():\n",
    "    \"\"\" This is a test class \"\"\"\n",
    "    static = 100\n",
    "    def __init__(self, one=None, two=None):\n",
    "        self.one = one\n",
    "        self.two = two        \n",
    "\n",
    "    def tester(self):\n",
    "        self.static = 2000"
   ]
  },
  {
   "cell_type": "code",
   "execution_count": 63,
   "id": "f244a67a-9a44-46d9-af09-3fdca032e55b",
   "metadata": {},
   "outputs": [
    {
     "data": {
      "text/plain": [
       "100"
      ]
     },
     "execution_count": 63,
     "metadata": {},
     "output_type": "execute_result"
    }
   ],
   "source": [
    "a = Test()\n",
    "a.static "
   ]
  },
  {
   "cell_type": "code",
   "execution_count": 38,
   "id": "74b940ed-d9ec-4b41-985a-78b94e12c6c1",
   "metadata": {},
   "outputs": [],
   "source": [
    "Test.static = 1000"
   ]
  },
  {
   "cell_type": "code",
   "execution_count": 57,
   "id": "905c43ef-0733-42ea-9d35-c46c73f1c6e6",
   "metadata": {},
   "outputs": [
    {
     "data": {
      "text/plain": [
       "type"
      ]
     },
     "execution_count": 57,
     "metadata": {},
     "output_type": "execute_result"
    }
   ],
   "source": [
    "type(Test)"
   ]
  },
  {
   "cell_type": "code",
   "execution_count": 61,
   "id": "596df5fb-b203-4049-a364-db1b8b63f4e0",
   "metadata": {},
   "outputs": [
    {
     "name": "stdout",
     "output_type": "stream",
     "text": [
      " This is a test class \n"
     ]
    }
   ],
   "source": [
    "print(a.__doc__)\n"
   ]
  },
  {
   "cell_type": "code",
   "execution_count": 69,
   "id": "4a0713d6-c52a-4f7c-81dd-da955d50e847",
   "metadata": {},
   "outputs": [
    {
     "data": {
      "text/plain": [
       "100"
      ]
     },
     "execution_count": 69,
     "metadata": {},
     "output_type": "execute_result"
    }
   ],
   "source": [
    "a.tester()\n",
    "Test.static"
   ]
  },
  {
   "cell_type": "code",
   "execution_count": 95,
   "id": "967d6e14-d685-4dd8-aa07-5930cbe71169",
   "metadata": {},
   "outputs": [],
   "source": [
    "class Pace:\n",
    "    department = 'Computer Science'\n",
    "    def __init__ (self, firstName = 'John', lastName = 'Doe', id = None):\n",
    "        self.firstName = firstName\n",
    "        self.lastName = lastName\n",
    "        self.__id = id\n",
    "\n",
    "    def getID(self, passkey):\n",
    "        if passkey == self.__id:\n",
    "            print(self.__id)\n",
    "        else:\n",
    "            print('Wrong pass key try again')\n",
    "\n",
    "    @staticmethod\n",
    "    def printdep():\n",
    "        print(f'The department defined globally is {Pace.department}')"
   ]
  },
  {
   "cell_type": "code",
   "execution_count": 86,
   "id": "b872cc48-9b09-466b-b053-b604537607bb",
   "metadata": {},
   "outputs": [],
   "source": [
    "student1 = Pace('osaid', 'khan', 1234)\n",
    "student2 = Pace(id=1234)"
   ]
  },
  {
   "cell_type": "code",
   "execution_count": 91,
   "id": "5cd2d4b6-e0c1-4621-9390-3f121f37c5a5",
   "metadata": {},
   "outputs": [
    {
     "name": "stdout",
     "output_type": "stream",
     "text": [
      "1234\n",
      " Hi my name is John Doe\n",
      "1234\n"
     ]
    }
   ],
   "source": [
    "student1.getID(1234)\n",
    "\n",
    "print(f' Hi my name is {student2.firstName} {student2.lastName}')\n",
    "student2.getID(1234)"
   ]
  },
  {
   "cell_type": "code",
   "execution_count": 93,
   "id": "131380c8-1b0d-4cdd-b72a-cdc1ee49c5d1",
   "metadata": {},
   "outputs": [
    {
     "name": "stdout",
     "output_type": "stream",
     "text": [
      " The global attributes are Computer Science for student1 and for student2 Computer Science\n"
     ]
    }
   ],
   "source": [
    "print(f' The global attributes are {student1.department} for student1 and for student2 {student2.department}' )"
   ]
  },
  {
   "cell_type": "code",
   "execution_count": 96,
   "id": "c3a04986-28f2-4b05-af5f-9bca766bb294",
   "metadata": {},
   "outputs": [
    {
     "ename": "AttributeError",
     "evalue": "'Pace' object has no attribute '__id'",
     "output_type": "error",
     "traceback": [
      "\u001b[0;31m---------------------------------------------------------------------------\u001b[0m",
      "\u001b[0;31mAttributeError\u001b[0m                            Traceback (most recent call last)",
      "Cell \u001b[0;32mIn[96], line 1\u001b[0m\n\u001b[0;32m----> 1\u001b[0m \u001b[43mstudent1\u001b[49m\u001b[38;5;241;43m.\u001b[39;49m\u001b[43m__id\u001b[49m \u001b[38;5;66;03m# this will error out since id is private \u001b[39;00m\n",
      "\u001b[0;31mAttributeError\u001b[0m: 'Pace' object has no attribute '__id'"
     ]
    }
   ],
   "source": [
    "student1.__id # this will error out since id is private "
   ]
  },
  {
   "cell_type": "code",
   "execution_count": 99,
   "id": "6b147625-33fb-4e9e-a89f-bd477954cab7",
   "metadata": {},
   "outputs": [
    {
     "name": "stdout",
     "output_type": "stream",
     "text": [
      "The department defined globally is Computer Science\n"
     ]
    }
   ],
   "source": [
    "Pace.printdep()"
   ]
  },
  {
   "cell_type": "code",
   "execution_count": null,
   "id": "bace24c3-5707-4753-b2ec-6550d970b6ce",
   "metadata": {},
   "outputs": [],
   "source": [
    "class Animal():\n",
    "    def __init__(self, name):\n",
    "        self\n",
    "\n",
    "de"
   ]
  }
 ],
 "metadata": {
  "kernelspec": {
   "display_name": "Python 3 (ipykernel)",
   "language": "python",
   "name": "python3"
  },
  "language_info": {
   "codemirror_mode": {
    "name": "ipython",
    "version": 3
   },
   "file_extension": ".py",
   "mimetype": "text/x-python",
   "name": "python",
   "nbconvert_exporter": "python",
   "pygments_lexer": "ipython3",
   "version": "3.12.5"
  }
 },
 "nbformat": 4,
 "nbformat_minor": 5
}
