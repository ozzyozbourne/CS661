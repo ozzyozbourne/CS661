{
 "cells": [
  {
   "cell_type": "code",
   "execution_count": 2,
   "id": "31de01d3-2c78-41ec-af13-994e8d8c4507",
   "metadata": {},
   "outputs": [],
   "source": [
    "class Account:\n",
    "    def __init__(self, acc_name, acc_number, balance = 0):\n",
    "        self.acc_name = acc_name\n",
    "        self.acc_number = acc_number\n",
    "        self.balance = balance\n",
    "\n",
    "    def deposit(self, amount):\n",
    "        self.balance += amount\n",
    "        print(f'The balance after deposit is {self.balance}')\n",
    "\n",
    "    def widthdraw(self, amount):\n",
    "        if self.balance - amount < 500:\n",
    "            print(f'Error cannot widthdraw since balance will be below 500')\n",
    "        else:\n",
    "            self.balance -= amount\n",
    "            print(f'Amount -> {amount} widthdrawn successfully, the current balance is -> {self.balance}')"
   ]
  },
  {
   "cell_type": "code",
   "execution_count": 6,
   "id": "97345359-51cb-44ba-89a3-e0b9b05994e0",
   "metadata": {},
   "outputs": [
    {
     "name": "stdout",
     "output_type": "stream",
     "text": [
      "Error cannot widthdraw since balance will be below 500\n",
      "The balance after deposit is 1500\n",
      "Amount -> 100 widthdrawn successfully, the current balance is -> 1400\n"
     ]
    }
   ],
   "source": [
    "a1 = Account('John doe', 1234, 500)\n",
    "a1.widthdraw(100) # this will not be withdrawn as the balance is at limit\n",
    "a1.deposit(1000) \n",
    "a1.widthdraw(100) # this will work since the balance is now sufficient"
   ]
  },
  {
   "cell_type": "code",
   "execution_count": 8,
   "id": "9be9ebb0-8b30-4651-84b0-d95d91229bc9",
   "metadata": {},
   "outputs": [],
   "source": [
    "class NewAccount(Account):\n",
    "    def __init__ (self,  acc_name, acc_number, balance = 0):\n",
    "        super().__init__(acc_name, acc_number, balance)\n"
   ]
  },
  {
   "cell_type": "code",
   "execution_count": 10,
   "id": "1ee1a375-9d1a-4d19-9efc-4a72e9238ac1",
   "metadata": {},
   "outputs": [
    {
     "name": "stdout",
     "output_type": "stream",
     "text": [
      "The balance after deposit is 1000000001\n"
     ]
    }
   ],
   "source": [
    "inhert = NewAccount('Bruce Wayne', 1234, 1000_000_000)\n",
    "inhert.deposit(1)"
   ]
  }
 ],
 "metadata": {
  "kernelspec": {
   "display_name": "Python 3 (ipykernel)",
   "language": "python",
   "name": "python3"
  },
  "language_info": {
   "codemirror_mode": {
    "name": "ipython",
    "version": 3
   },
   "file_extension": ".py",
   "mimetype": "text/x-python",
   "name": "python",
   "nbconvert_exporter": "python",
   "pygments_lexer": "ipython3",
   "version": "3.12.5"
  }
 },
 "nbformat": 4,
 "nbformat_minor": 5
}
