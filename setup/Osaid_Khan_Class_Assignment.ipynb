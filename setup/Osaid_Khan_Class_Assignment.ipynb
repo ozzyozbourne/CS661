{
 "cells": [
  {
   "cell_type": "code",
   "execution_count": 1,
   "id": "3ebbf10f-88b0-42ce-b4a9-3b9ba30a1c7c",
   "metadata": {},
   "outputs": [
    {
     "name": "stdin",
     "output_type": "stream",
     "text": [
      "Enter the federal tax please:  10\n",
      "Enter the state tax please:  10\n",
      "Enter your salary please:  100\n"
     ]
    },
    {
     "name": "stdout",
     "output_type": "stream",
     "text": [
      "Your total tax is 20.0 and your salary after tax is 80.0\n"
     ]
    }
   ],
   "source": [
    "import tax\n",
    "tax.cal_tax()"
   ]
  },
  {
   "cell_type": "code",
   "execution_count": 3,
   "id": "6aa5eaf8-b325-4150-abe4-dd34bdbb2ed2",
   "metadata": {},
   "outputs": [
    {
     "name": "stdin",
     "output_type": "stream",
     "text": [
      "Enter the federal tax please:  10\n",
      "Enter the state tax please:  10\n",
      "Enter your salary please:  100\n"
     ]
    },
    {
     "name": "stdout",
     "output_type": "stream",
     "text": [
      "Your total tax is 20.0 and your salary after tax is 80.0\n"
     ]
    }
   ],
   "source": [
    "tax.cal_tax()\n"
   ]
  }
 ],
 "metadata": {
  "kernelspec": {
   "display_name": "Python 3 (ipykernel)",
   "language": "python",
   "name": "python3"
  },
  "language_info": {
   "codemirror_mode": {
    "name": "ipython",
    "version": 3
   },
   "file_extension": ".py",
   "mimetype": "text/x-python",
   "name": "python",
   "nbconvert_exporter": "python",
   "pygments_lexer": "ipython3",
   "version": "3.12.5"
  }
 },
 "nbformat": 4,
 "nbformat_minor": 5
}
