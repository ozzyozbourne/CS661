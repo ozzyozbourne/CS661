{
 "cells": [
  {
   "cell_type": "code",
   "execution_count": 11,
   "id": "dd00dcde-a5c1-4ce0-8b75-656dee6bc16c",
   "metadata": {},
   "outputs": [],
   "source": [
    "w = open('test.txt', 'wb')"
   ]
  },
  {
   "cell_type": "code",
   "execution_count": 15,
   "id": "5007bfd1-e888-4a8f-9a5e-6955a3fbfc24",
   "metadata": {},
   "outputs": [
    {
     "ename": "TypeError",
     "evalue": "a bytes-like object is required, not 'int'",
     "output_type": "error",
     "traceback": [
      "\u001b[0;31m---------------------------------------------------------------------------\u001b[0m",
      "\u001b[0;31mTypeError\u001b[0m                                 Traceback (most recent call last)",
      "Cell \u001b[0;32mIn[15], line 1\u001b[0m\n\u001b[0;32m----> 1\u001b[0m \u001b[43mw\u001b[49m\u001b[38;5;241;43m.\u001b[39;49m\u001b[43mwrite\u001b[49m\u001b[43m(\u001b[49m\u001b[38;5;241;43m10\u001b[39;49m\u001b[43m)\u001b[49m\n",
      "\u001b[0;31mTypeError\u001b[0m: a bytes-like object is required, not 'int'"
     ]
    }
   ],
   "source": [
    "w.write(10)"
   ]
  },
  {
   "cell_type": "code",
   "execution_count": 13,
   "id": "880ae288-6bb7-46c4-bff4-20d81f80bcfa",
   "metadata": {},
   "outputs": [
    {
     "name": "stdout",
     "output_type": "stream",
     "text": [
      "3\n",
      "<class 'NoneType'> <class 'NoneType'>\n"
     ]
    }
   ],
   "source": [
    "val1 = add(1, 2)\n",
    "val2 = None\n",
    "print(type(val1), type(val2))"
   ]
  },
  {
   "cell_type": "code",
   "execution_count": 19,
   "id": "269c60ac-ed68-4b21-9551-ed4a68283e78",
   "metadata": {},
   "outputs": [
    {
     "name": "stdout",
     "output_type": "stream",
     "text": [
      "<class 'tuple'>\n"
     ]
    }
   ],
   "source": [
    "def add_number(*args):\n",
    "    print(type(args))\n",
    "\n",
    "add_number(1, '123', [1,1,3])"
   ]
  }
 ],
 "metadata": {
  "kernelspec": {
   "display_name": "Python 3 (ipykernel)",
   "language": "python",
   "name": "python3"
  },
  "language_info": {
   "codemirror_mode": {
    "name": "ipython",
    "version": 3
   },
   "file_extension": ".py",
   "mimetype": "text/x-python",
   "name": "python",
   "nbconvert_exporter": "python",
   "pygments_lexer": "ipython3",
   "version": "3.12.5"
  }
 },
 "nbformat": 4,
 "nbformat_minor": 5
}
