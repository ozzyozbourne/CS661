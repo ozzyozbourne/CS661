{
 "cells": [
  {
   "cell_type": "code",
   "execution_count": 59,
   "id": "6059b87d-c8ee-4dd6-bf4a-90aa1ee4e529",
   "metadata": {},
   "outputs": [],
   "source": [
    "import numpy as np\n",
    "import pandas as pd\n",
    "import matplotlib.pyplot as plt \n",
    "import seaborn as sns\n",
    "from PIL import Image\n",
    "from scipy.io import wavfile"
   ]
  },
  {
   "cell_type": "code",
   "execution_count": 44,
   "id": "53018ebb-997b-4737-b5df-ebf1349b1728",
   "metadata": {},
   "outputs": [],
   "source": [
    "df = pd.read_csv('covid.csv')"
   ]
  },
  {
   "cell_type": "code",
   "execution_count": 45,
   "id": "49eee5fc-0856-4557-b5cb-74f39cddf5a7",
   "metadata": {},
   "outputs": [
    {
     "name": "stdout",
     "output_type": "stream",
     "text": [
      "<class 'pandas.core.frame.DataFrame'>\n",
      "RangeIndex: 224 entries, 0 to 223\n",
      "Data columns (total 65 columns):\n",
      " #   Column                                   Non-Null Count  Dtype  \n",
      "---  ------                                   --------------  -----  \n",
      " 0   iso_code                                 224 non-null    object \n",
      " 1   continent                                215 non-null    object \n",
      " 2   location                                 224 non-null    object \n",
      " 3   last_updated_date                        224 non-null    object \n",
      " 4   total_cases                              202 non-null    float64\n",
      " 5   new_cases                                202 non-null    float64\n",
      " 6   new_cases_smoothed                       202 non-null    float64\n",
      " 7   total_deaths                             195 non-null    float64\n",
      " 8   new_deaths                               195 non-null    float64\n",
      " 9   new_deaths_smoothed                      202 non-null    float64\n",
      " 10  total_cases_per_million                  201 non-null    float64\n",
      " 11  new_cases_per_million                    201 non-null    float64\n",
      " 12  new_cases_smoothed_per_million           201 non-null    float64\n",
      " 13  total_deaths_per_million                 194 non-null    float64\n",
      " 14  new_deaths_per_million                   194 non-null    float64\n",
      " 15  new_deaths_smoothed_per_million          201 non-null    float64\n",
      " 16  reproduction_rate                        185 non-null    float64\n",
      " 17  icu_patients                             28 non-null     float64\n",
      " 18  icu_patients_per_million                 28 non-null     float64\n",
      " 19  hosp_patients                            31 non-null     float64\n",
      " 20  hosp_patients_per_million                31 non-null     float64\n",
      " 21  weekly_icu_admissions                    15 non-null     float64\n",
      " 22  weekly_icu_admissions_per_million        15 non-null     float64\n",
      " 23  weekly_hosp_admissions                   23 non-null     float64\n",
      " 24  weekly_hosp_admissions_per_million       23 non-null     float64\n",
      " 25  new_tests                                94 non-null     float64\n",
      " 26  total_tests                              107 non-null    float64\n",
      " 27  total_tests_per_thousand                 107 non-null    float64\n",
      " 28  new_tests_per_thousand                   94 non-null     float64\n",
      " 29  new_tests_smoothed                       111 non-null    float64\n",
      " 30  new_tests_smoothed_per_thousand          111 non-null    float64\n",
      " 31  positive_rate                            109 non-null    float64\n",
      " 32  tests_per_case                           109 non-null    float64\n",
      " 33  tests_units                              113 non-null    object \n",
      " 34  total_vaccinations                       202 non-null    float64\n",
      " 35  people_vaccinated                        195 non-null    float64\n",
      " 36  people_fully_vaccinated                  199 non-null    float64\n",
      " 37  total_boosters                           38 non-null     float64\n",
      " 38  new_vaccinations                         118 non-null    float64\n",
      " 39  new_vaccinations_smoothed                202 non-null    float64\n",
      " 40  total_vaccinations_per_hundred           202 non-null    float64\n",
      " 41  people_vaccinated_per_hundred            195 non-null    float64\n",
      " 42  people_fully_vaccinated_per_hundred      199 non-null    float64\n",
      " 43  total_boosters_per_hundred               38 non-null     float64\n",
      " 44  new_vaccinations_smoothed_per_million    202 non-null    float64\n",
      " 45  stringency_index                         160 non-null    float64\n",
      " 46  population                               223 non-null    float64\n",
      " 47  population_density                       205 non-null    float64\n",
      " 48  median_age                               190 non-null    float64\n",
      " 49  aged_65_older                            188 non-null    float64\n",
      " 50  aged_70_older                            189 non-null    float64\n",
      " 51  gdp_per_capita                           192 non-null    float64\n",
      " 52  extreme_poverty                          125 non-null    float64\n",
      " 53  cardiovasc_death_rate                    189 non-null    float64\n",
      " 54  diabetes_prevalence                      199 non-null    float64\n",
      " 55  female_smokers                           146 non-null    float64\n",
      " 56  male_smokers                             144 non-null    float64\n",
      " 57  handwashing_facilities                   95 non-null     float64\n",
      " 58  hospital_beds_per_thousand               170 non-null    float64\n",
      " 59  life_expectancy                          213 non-null    float64\n",
      " 60  human_development_index                  189 non-null    float64\n",
      " 61  excess_mortality_cumulative_absolute     0 non-null      float64\n",
      " 62  excess_mortality_cumulative              0 non-null      float64\n",
      " 63  excess_mortality                         0 non-null      float64\n",
      " 64  excess_mortality_cumulative_per_million  0 non-null      float64\n",
      "dtypes: float64(60), object(5)\n",
      "memory usage: 113.9+ KB\n"
     ]
    }
   ],
   "source": [
    "df.info()"
   ]
  },
  {
   "cell_type": "code",
   "execution_count": 46,
   "id": "bf9eccea-3b5a-400f-ac07-ef529611bb7c",
   "metadata": {},
   "outputs": [
    {
     "data": {
      "text/plain": [
       "Index(['iso_code', 'continent', 'location', 'last_updated_date', 'total_cases',\n",
       "       'new_cases', 'new_cases_smoothed', 'total_deaths', 'new_deaths',\n",
       "       'new_deaths_smoothed', 'total_cases_per_million',\n",
       "       'new_cases_per_million', 'new_cases_smoothed_per_million',\n",
       "       'total_deaths_per_million', 'new_deaths_per_million',\n",
       "       'new_deaths_smoothed_per_million', 'reproduction_rate', 'icu_patients',\n",
       "       'icu_patients_per_million', 'hosp_patients',\n",
       "       'hosp_patients_per_million', 'weekly_icu_admissions',\n",
       "       'weekly_icu_admissions_per_million', 'weekly_hosp_admissions',\n",
       "       'weekly_hosp_admissions_per_million', 'new_tests', 'total_tests',\n",
       "       'total_tests_per_thousand', 'new_tests_per_thousand',\n",
       "       'new_tests_smoothed', 'new_tests_smoothed_per_thousand',\n",
       "       'positive_rate', 'tests_per_case', 'tests_units', 'total_vaccinations',\n",
       "       'people_vaccinated', 'people_fully_vaccinated', 'total_boosters',\n",
       "       'new_vaccinations', 'new_vaccinations_smoothed',\n",
       "       'total_vaccinations_per_hundred', 'people_vaccinated_per_hundred',\n",
       "       'people_fully_vaccinated_per_hundred', 'total_boosters_per_hundred',\n",
       "       'new_vaccinations_smoothed_per_million', 'stringency_index',\n",
       "       'population', 'population_density', 'median_age', 'aged_65_older',\n",
       "       'aged_70_older', 'gdp_per_capita', 'extreme_poverty',\n",
       "       'cardiovasc_death_rate', 'diabetes_prevalence', 'female_smokers',\n",
       "       'male_smokers', 'handwashing_facilities', 'hospital_beds_per_thousand',\n",
       "       'life_expectancy', 'human_development_index',\n",
       "       'excess_mortality_cumulative_absolute', 'excess_mortality_cumulative',\n",
       "       'excess_mortality', 'excess_mortality_cumulative_per_million'],\n",
       "      dtype='object')"
      ]
     },
     "execution_count": 46,
     "metadata": {},
     "output_type": "execute_result"
    }
   ],
   "source": [
    "df.columns"
   ]
  },
  {
   "cell_type": "code",
   "execution_count": 47,
   "id": "37d21739-9d4a-4dde-993a-bc1ddf0beecc",
   "metadata": {},
   "outputs": [],
   "source": [
    "df_car = df[['new_cases', 'population', 'people_vaccinated', 'total_tests_per_thousand']]"
   ]
  },
  {
   "cell_type": "code",
   "execution_count": 48,
   "id": "6d9d261e-8224-4387-853e-2a765098b0ec",
   "metadata": {},
   "outputs": [
    {
     "data": {
      "text/plain": [
       "<Axes: >"
      ]
     },
     "execution_count": 48,
     "metadata": {},
     "output_type": "execute_result"
    },
    {
     "data": {
      "image/png": "[encoded data removed]",
      "text/plain": [
       "<Figure size 640x480 with 1 Axes>"
      ]
     },
     "metadata": {},
     "output_type": "display_data"
    }
   ],
   "source": [
    "df_car.plot()"
   ]
  },
  {
   "cell_type": "code",
   "execution_count": 49,
   "id": "7e7b4396-fdd4-441a-98ac-ee9ce613c4ee",
   "metadata": {},
   "outputs": [
    {
     "data": {
      "text/html": [
       "<div>\n",
       "<style scoped>\n",
       "    .dataframe tbody tr th:only-of-type {\n",
       "        vertical-align: middle;\n",
       "    }\n",
       "\n",
       "    .dataframe tbody tr th {\n",
       "        vertical-align: top;\n",
       "    }\n",
       "\n",
       "    .dataframe thead th {\n",
       "        text-align: right;\n",
       "    }\n",
       "</style>\n",
       "<table border=\"1\" class=\"dataframe\">\n",
       "  <thead>\n",
       "    <tr style=\"text-align: right;\">\n",
       "      <th></th>\n",
       "      <th>new_cases</th>\n",
       "      <th>population</th>\n",
       "      <th>people_vaccinated</th>\n",
       "      <th>total_tests_per_thousand</th>\n",
       "    </tr>\n",
       "  </thead>\n",
       "  <tbody>\n",
       "    <tr>\n",
       "      <th>count</th>\n",
       "      <td>202.000000</td>\n",
       "      <td>2.230000e+02</td>\n",
       "      <td>1.950000e+02</td>\n",
       "      <td>107.000000</td>\n",
       "    </tr>\n",
       "    <tr>\n",
       "      <th>mean</th>\n",
       "      <td>6952.306931</td>\n",
       "      <td>1.077836e+08</td>\n",
       "      <td>5.361398e+07</td>\n",
       "      <td>1351.543664</td>\n",
       "    </tr>\n",
       "    <tr>\n",
       "      <th>std</th>\n",
       "      <td>36352.302937</td>\n",
       "      <td>6.335280e+08</td>\n",
       "      <td>3.318415e+08</td>\n",
       "      <td>2271.152342</td>\n",
       "    </tr>\n",
       "    <tr>\n",
       "      <th>min</th>\n",
       "      <td>0.000000</td>\n",
       "      <td>8.120000e+02</td>\n",
       "      <td>9.680000e+02</td>\n",
       "      <td>14.867000</td>\n",
       "    </tr>\n",
       "    <tr>\n",
       "      <th>25%</th>\n",
       "      <td>10.750000</td>\n",
       "      <td>8.922305e+05</td>\n",
       "      <td>2.455690e+05</td>\n",
       "      <td>206.874000</td>\n",
       "    </tr>\n",
       "    <tr>\n",
       "      <th>50%</th>\n",
       "      <td>188.000000</td>\n",
       "      <td>7.219641e+06</td>\n",
       "      <td>1.872076e+06</td>\n",
       "      <td>697.675000</td>\n",
       "    </tr>\n",
       "    <tr>\n",
       "      <th>75%</th>\n",
       "      <td>1703.500000</td>\n",
       "      <td>3.008278e+07</td>\n",
       "      <td>8.816592e+06</td>\n",
       "      <td>1479.930000</td>\n",
       "    </tr>\n",
       "    <tr>\n",
       "      <th>max</th>\n",
       "      <td>436256.000000</td>\n",
       "      <td>7.874966e+09</td>\n",
       "      <td>3.769766e+09</td>\n",
       "      <td>15840.708000</td>\n",
       "    </tr>\n",
       "  </tbody>\n",
       "</table>\n",
       "</div>"
      ],
      "text/plain": [
       "           new_cases    population  people_vaccinated  \\\n",
       "count     202.000000  2.230000e+02       1.950000e+02   \n",
       "mean     6952.306931  1.077836e+08       5.361398e+07   \n",
       "std     36352.302937  6.335280e+08       3.318415e+08   \n",
       "min         0.000000  8.120000e+02       9.680000e+02   \n",
       "25%        10.750000  8.922305e+05       2.455690e+05   \n",
       "50%       188.000000  7.219641e+06       1.872076e+06   \n",
       "75%      1703.500000  3.008278e+07       8.816592e+06   \n",
       "max    436256.000000  7.874966e+09       3.769766e+09   \n",
       "\n",
       "       total_tests_per_thousand  \n",
       "count                107.000000  \n",
       "mean                1351.543664  \n",
       "std                 2271.152342  \n",
       "min                   14.867000  \n",
       "25%                  206.874000  \n",
       "50%                  697.675000  \n",
       "75%                 1479.930000  \n",
       "max                15840.708000  "
      ]
     },
     "execution_count": 49,
     "metadata": {},
     "output_type": "execute_result"
    }
   ],
   "source": [
    "df_car.describe()"
   ]
  },
  {
   "cell_type": "code",
   "execution_count": 50,
   "id": "7b6ad55d-4647-453c-aeba-ef307a668bbf",
   "metadata": {},
   "outputs": [
    {
     "data": {
      "text/plain": [
       "new_cases                       188.000\n",
       "population                  7219641.000\n",
       "people_vaccinated           1872076.000\n",
       "total_tests_per_thousand        697.675\n",
       "dtype: float64"
      ]
     },
     "execution_count": 50,
     "metadata": {},
     "output_type": "execute_result"
    }
   ],
   "source": [
    "df_car.median()"
   ]
  },
  {
   "cell_type": "code",
   "execution_count": 51,
   "id": "25a254f2-bafc-45a4-a76e-d68f08fd3aec",
   "metadata": {},
   "outputs": [
    {
     "data": {
      "text/plain": [
       "<Axes: >"
      ]
     },
     "execution_count": 51,
     "metadata": {},
     "output_type": "execute_result"
    },
    {
     "data": {
      "image/png": "[encoded data removed]",
      "text/plain": [
       "<Figure size 640x480 with 1 Axes>"
      ]
     },
     "metadata": {},
     "output_type": "display_data"
    }
   ],
   "source": [
    "df_car.boxplot()"
   ]
  },
  {
   "cell_type": "code",
   "execution_count": null,
   "id": "6d7aedbd-aba9-47db-bcf4-b223332bdcbb",
   "metadata": {},
   "outputs": [],
   "source": []
  },
  {
   "cell_type": "code",
   "execution_count": 52,
   "id": "6ee6fadb-e4e2-47b3-8301-5498511b8053",
   "metadata": {},
   "outputs": [],
   "source": [
    "img = Image.open('world.jpg')"
   ]
  },
  {
   "cell_type": "code",
   "execution_count": 53,
   "id": "acd0e11e-0366-4bd8-979b-13f0e6306c84",
   "metadata": {},
   "outputs": [
    {
     "data": {
      "text/plain": [
       "PIL.JpegImagePlugin.JpegImageFile"
      ]
     },
     "execution_count": 53,
     "metadata": {},
     "output_type": "execute_result"
    }
   ],
   "source": [
    "type(img)"
   ]
  },
  {
   "cell_type": "code",
   "execution_count": 54,
   "id": "8ad0e482-6e50-4132-a089-784a9e1f3658",
   "metadata": {},
   "outputs": [
    {
     "data": {
      "text/plain": [
       "array([[[124, 148, 208],\n",
       "        [124, 148, 208],\n",
       "        [124, 148, 208],\n",
       "        ...,\n",
       "        [  7,  25,  89],\n",
       "        [  9,  24,  89],\n",
       "        [  9,  24,  89]],\n",
       "\n",
       "       [[124, 148, 208],\n",
       "        [124, 148, 208],\n",
       "        [124, 148, 208],\n",
       "        ...,\n",
       "        [  7,  25,  89],\n",
       "        [ 12,  27,  92],\n",
       "        [ 12,  27,  92]],\n",
       "\n",
       "       [[124, 148, 208],\n",
       "        [124, 148, 208],\n",
       "        [124, 148, 208],\n",
       "        ...,\n",
       "        [  7,  25,  89],\n",
       "        [  9,  24,  89],\n",
       "        [  9,  24,  89]],\n",
       "\n",
       "       ...,\n",
       "\n",
       "       [[ 29,  29,  31],\n",
       "        [ 26,  26,  28],\n",
       "        [ 26,  26,  28],\n",
       "        ...,\n",
       "        [ 67,  56,  52],\n",
       "        [ 94,  83,  79],\n",
       "        [ 96,  85,  79]],\n",
       "\n",
       "       [[ 31,  31,  33],\n",
       "        [ 29,  29,  31],\n",
       "        [ 28,  28,  30],\n",
       "        ...,\n",
       "        [ 62,  51,  47],\n",
       "        [ 93,  82,  78],\n",
       "        [ 95,  84,  80]],\n",
       "\n",
       "       [[ 31,  31,  33],\n",
       "        [ 28,  28,  30],\n",
       "        [ 28,  28,  30],\n",
       "        ...,\n",
       "        [ 65,  54,  52],\n",
       "        [ 90,  79,  75],\n",
       "        [ 92,  81,  77]]], dtype=uint8)"
      ]
     },
     "execution_count": 54,
     "metadata": {},
     "output_type": "execute_result"
    }
   ],
   "source": [
    "imgarray = np.asarray(img)\n",
    "imgarray"
   ]
  },
  {
   "cell_type": "code",
   "execution_count": 55,
   "id": "b1acc9ea-e5c6-467c-87ff-e1354592db29",
   "metadata": {},
   "outputs": [
    {
     "data": {
      "text/plain": [
       "(2330, 2250, 3)"
      ]
     },
     "execution_count": 55,
     "metadata": {},
     "output_type": "execute_result"
    }
   ],
   "source": [
    "imgarray.shape"
   ]
  },
  {
   "cell_type": "code",
   "execution_count": 56,
   "id": "4b0a9358-d840-4146-8748-0471391d33f6",
   "metadata": {},
   "outputs": [],
   "source": [
    "slice1 = imgarray[50:,:27]"
   ]
  },
  {
   "cell_type": "code",
   "execution_count": 57,
   "id": "4fdd3afd-0535-4d6d-a244-085768ede323",
   "metadata": {},
   "outputs": [],
   "source": [
    "img_slice1 = Image.fromarray(slice1)"
   ]
  },
  {
   "cell_type": "code",
   "execution_count": 58,
   "id": "21465ccf-a151-4bb0-a0e1-71a8502106fb",
   "metadata": {},
   "outputs": [],
   "source": [
    "img_slice1.save('world2.png')"
   ]
  },
  {
   "cell_type": "code",
   "execution_count": 61,
   "id": "5f5eb671-9886-48ef-8132-3dc8c07171ed",
   "metadata": {},
   "outputs": [],
   "source": [
    "rate, snd = wavfile.read(filename='sms.wav')"
   ]
  },
  {
   "cell_type": "code",
   "execution_count": null,
   "id": "4f7771d1-e003-4fcd-984e-eb1ff7a01b7e",
   "metadata": {},
   "outputs": [],
   "source": []
  }
 ],
 "metadata": {
  "kernelspec": {
   "display_name": "Python 3 (ipykernel)",
   "language": "python",
   "name": "python3"
  },
  "language_info": {
   "codemirror_mode": {
    "name": "ipython",
    "version": 3
   },
   "file_extension": ".py",
   "mimetype": "text/x-python",
   "name": "python",
   "nbconvert_exporter": "python",
   "pygments_lexer": "ipython3",
   "version": "3.12.5"
  }
 },
 "nbformat": 4,
 "nbformat_minor": 5
}
