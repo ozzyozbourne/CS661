{
 "cells": [
  {
   "cell_type": "code",
   "execution_count": 8,
   "id": "d9102a5f-9047-4989-bbdb-74432347ec28",
   "metadata": {},
   "outputs": [
    {
     "name": "stdout",
     "output_type": "stream",
     "text": [
      "create a class of stiudent and defalt paramert golan attraitbt, private and publiv and a methopd\n",
      "\n"
     ]
    }
   ],
   "source": [
    "with open('test.txt', 'r') as f1: print(f1.read())"
   ]
  },
  {
   "cell_type": "code",
   "execution_count": 12,
   "id": "f7ad4dee-b33d-4610-b5dc-50dc812a9314",
   "metadata": {},
   "outputs": [],
   "source": [
    "f1 = open('tester.txt', 'w')\n",
    "f1.close()"
   ]
  },
  {
   "cell_type": "code",
   "execution_count": 17,
   "id": "a66d61a9-9e4e-40a0-a148-6cd0bcb4984c",
   "metadata": {},
   "outputs": [
    {
     "name": "stdout",
     "output_type": "stream",
     "text": [
      "file doesnt, exists\n"
     ]
    }
   ],
   "source": [
    "import os\n",
    "if os.path.exists('not_there.txt'):\n",
    "    with open('not_there.txt') as f1:\n",
    "        content = f2.read()\n",
    "        print(content)\n",
    "else:\n",
    "    print('file doesnt, exists')"
   ]
  },
  {
   "cell_type": "code",
   "execution_count": 29,
   "id": "afbbe747-251e-465d-9f1d-b158961ba967",
   "metadata": {},
   "outputs": [],
   "source": [
    "import pickle\n",
    "\n",
    "data = ['name', 'Alice', 'age', 25, 'score', 90.5]\n",
    "\n",
    "with open('data.pickle', 'wb') as file: \n",
    "    pickle.dump(data, file)"
   ]
  },
  {
   "cell_type": "code",
   "execution_count": 30,
   "id": "5090ec11-d75d-45de-8bbc-b709b133034c",
   "metadata": {},
   "outputs": [
    {
     "name": "stdout",
     "output_type": "stream",
     "text": [
      "['name', 'Alice', 'age', 25, 'score', 90.5]\n"
     ]
    }
   ],
   "source": [
    "with open('data.pickle', 'rb') as file: \n",
    "    loaded_data = pickle.load(file)\n",
    "\n",
    "print(loaded_data)"
   ]
  },
  {
   "cell_type": "code",
   "execution_count": 37,
   "id": "b3469ef2-28dc-4a46-9110-2b7dbf1ff2c3",
   "metadata": {},
   "outputs": [
    {
     "data": {
      "text/plain": [
       "0    1\n",
       "1    2\n",
       "2    3\n",
       "3    4\n",
       "4    5\n",
       "5    6\n",
       "dtype: int64"
      ]
     },
     "execution_count": 37,
     "metadata": {},
     "output_type": "execute_result"
    }
   ],
   "source": [
    "import pandas as pd \n",
    "from numpy.random import randn as rd\n",
    "test = pd.Series([1,2,3,4,5,6])\n",
    "\n",
    "test"
   ]
  },
  {
   "cell_type": "code",
   "execution_count": 35,
   "id": "f3ef053d-47d9-43a9-94aa-98070930bc51",
   "metadata": {},
   "outputs": [
    {
     "data": {
      "text/plain": [
       "cites    12\n",
       "test     14\n",
       "dtype: int64"
      ]
     },
     "execution_count": 35,
     "metadata": {},
     "output_type": "execute_result"
    }
   ],
   "source": [
    "pd.Series({'cites': 12, 'test': 14})"
   ]
  },
  {
   "cell_type": "code",
   "execution_count": 43,
   "id": "ad55032d-89be-4eda-8a68-82070a063345",
   "metadata": {},
   "outputs": [
    {
     "data": {
      "text/html": [
       "<div>\n",
       "<style scoped>\n",
       "    .dataframe tbody tr th:only-of-type {\n",
       "        vertical-align: middle;\n",
       "    }\n",
       "\n",
       "    .dataframe tbody tr th {\n",
       "        vertical-align: top;\n",
       "    }\n",
       "\n",
       "    .dataframe thead th {\n",
       "        text-align: right;\n",
       "    }\n",
       "</style>\n",
       "<table border=\"1\" class=\"dataframe\">\n",
       "  <thead>\n",
       "    <tr style=\"text-align: right;\">\n",
       "      <th></th>\n",
       "      <th>sin</th>\n",
       "      <th>cos</th>\n",
       "      <th>theta</th>\n",
       "      <th>alpha</th>\n",
       "      <th>tan</th>\n",
       "    </tr>\n",
       "  </thead>\n",
       "  <tbody>\n",
       "    <tr>\n",
       "      <th>1</th>\n",
       "      <td>-0.100414</td>\n",
       "      <td>0.480385</td>\n",
       "      <td>-0.678507</td>\n",
       "      <td>-0.198405</td>\n",
       "      <td>0.627907</td>\n",
       "    </tr>\n",
       "    <tr>\n",
       "      <th>2</th>\n",
       "      <td>2.761305</td>\n",
       "      <td>2.002120</td>\n",
       "      <td>0.568523</td>\n",
       "      <td>0.451867</td>\n",
       "      <td>1.300690</td>\n",
       "    </tr>\n",
       "    <tr>\n",
       "      <th>3</th>\n",
       "      <td>0.126874</td>\n",
       "      <td>1.660773</td>\n",
       "      <td>0.556995</td>\n",
       "      <td>0.420061</td>\n",
       "      <td>-1.349121</td>\n",
       "    </tr>\n",
       "    <tr>\n",
       "      <th>4</th>\n",
       "      <td>1.494229</td>\n",
       "      <td>-0.719470</td>\n",
       "      <td>-0.543538</td>\n",
       "      <td>0.753986</td>\n",
       "      <td>1.087704</td>\n",
       "    </tr>\n",
       "    <tr>\n",
       "      <th>5</th>\n",
       "      <td>0.851975</td>\n",
       "      <td>-0.010160</td>\n",
       "      <td>0.427212</td>\n",
       "      <td>-0.455445</td>\n",
       "      <td>-0.122233</td>\n",
       "    </tr>\n",
       "    <tr>\n",
       "      <th>6</th>\n",
       "      <td>0.541923</td>\n",
       "      <td>0.923739</td>\n",
       "      <td>1.378730</td>\n",
       "      <td>-1.920902</td>\n",
       "      <td>1.516845</td>\n",
       "    </tr>\n",
       "    <tr>\n",
       "      <th>7</th>\n",
       "      <td>0.196815</td>\n",
       "      <td>0.995548</td>\n",
       "      <td>0.963217</td>\n",
       "      <td>-1.801817</td>\n",
       "      <td>2.605768</td>\n",
       "    </tr>\n",
       "    <tr>\n",
       "      <th>8</th>\n",
       "      <td>-0.992641</td>\n",
       "      <td>1.105567</td>\n",
       "      <td>1.744000</td>\n",
       "      <td>-0.215445</td>\n",
       "      <td>-1.283954</td>\n",
       "    </tr>\n",
       "    <tr>\n",
       "      <th>9</th>\n",
       "      <td>0.222253</td>\n",
       "      <td>-0.907389</td>\n",
       "      <td>-0.105772</td>\n",
       "      <td>1.329575</td>\n",
       "      <td>-0.295301</td>\n",
       "    </tr>\n",
       "    <tr>\n",
       "      <th>10</th>\n",
       "      <td>0.137334</td>\n",
       "      <td>0.118111</td>\n",
       "      <td>1.025931</td>\n",
       "      <td>1.421024</td>\n",
       "      <td>-0.261337</td>\n",
       "    </tr>\n",
       "  </tbody>\n",
       "</table>\n",
       "</div>"
      ],
      "text/plain": [
       "         sin       cos     theta     alpha       tan\n",
       "1  -0.100414  0.480385 -0.678507 -0.198405  0.627907\n",
       "2   2.761305  2.002120  0.568523  0.451867  1.300690\n",
       "3   0.126874  1.660773  0.556995  0.420061 -1.349121\n",
       "4   1.494229 -0.719470 -0.543538  0.753986  1.087704\n",
       "5   0.851975 -0.010160  0.427212 -0.455445 -0.122233\n",
       "6   0.541923  0.923739  1.378730 -1.920902  1.516845\n",
       "7   0.196815  0.995548  0.963217 -1.801817  2.605768\n",
       "8  -0.992641  1.105567  1.744000 -0.215445 -1.283954\n",
       "9   0.222253 -0.907389 -0.105772  1.329575 -0.295301\n",
       "10  0.137334  0.118111  1.025931  1.421024 -0.261337"
      ]
     },
     "execution_count": 43,
     "metadata": {},
     "output_type": "execute_result"
    }
   ],
   "source": [
    "d = pd.DataFrame(rd(10, 5), [1,2,3,4,5,6,7,8,9,10], ['sin', 'cos', 'theta', 'alpha', 'tan'])\n",
    "d"
   ]
  },
  {
   "cell_type": "code",
   "execution_count": 44,
   "id": "eb5ed806-32b0-4bea-a3b7-119819961c1a",
   "metadata": {},
   "outputs": [
    {
     "data": {
      "text/html": [
       "<div>\n",
       "<style scoped>\n",
       "    .dataframe tbody tr th:only-of-type {\n",
       "        vertical-align: middle;\n",
       "    }\n",
       "\n",
       "    .dataframe tbody tr th {\n",
       "        vertical-align: top;\n",
       "    }\n",
       "\n",
       "    .dataframe thead th {\n",
       "        text-align: right;\n",
       "    }\n",
       "</style>\n",
       "<table border=\"1\" class=\"dataframe\">\n",
       "  <thead>\n",
       "    <tr style=\"text-align: right;\">\n",
       "      <th></th>\n",
       "      <th>sin</th>\n",
       "      <th>cos</th>\n",
       "    </tr>\n",
       "  </thead>\n",
       "  <tbody>\n",
       "    <tr>\n",
       "      <th>1</th>\n",
       "      <td>-0.100414</td>\n",
       "      <td>0.480385</td>\n",
       "    </tr>\n",
       "    <tr>\n",
       "      <th>2</th>\n",
       "      <td>2.761305</td>\n",
       "      <td>2.002120</td>\n",
       "    </tr>\n",
       "    <tr>\n",
       "      <th>3</th>\n",
       "      <td>0.126874</td>\n",
       "      <td>1.660773</td>\n",
       "    </tr>\n",
       "    <tr>\n",
       "      <th>4</th>\n",
       "      <td>1.494229</td>\n",
       "      <td>-0.719470</td>\n",
       "    </tr>\n",
       "    <tr>\n",
       "      <th>5</th>\n",
       "      <td>0.851975</td>\n",
       "      <td>-0.010160</td>\n",
       "    </tr>\n",
       "    <tr>\n",
       "      <th>6</th>\n",
       "      <td>0.541923</td>\n",
       "      <td>0.923739</td>\n",
       "    </tr>\n",
       "    <tr>\n",
       "      <th>7</th>\n",
       "      <td>0.196815</td>\n",
       "      <td>0.995548</td>\n",
       "    </tr>\n",
       "    <tr>\n",
       "      <th>8</th>\n",
       "      <td>-0.992641</td>\n",
       "      <td>1.105567</td>\n",
       "    </tr>\n",
       "    <tr>\n",
       "      <th>9</th>\n",
       "      <td>0.222253</td>\n",
       "      <td>-0.907389</td>\n",
       "    </tr>\n",
       "    <tr>\n",
       "      <th>10</th>\n",
       "      <td>0.137334</td>\n",
       "      <td>0.118111</td>\n",
       "    </tr>\n",
       "  </tbody>\n",
       "</table>\n",
       "</div>"
      ],
      "text/plain": [
       "         sin       cos\n",
       "1  -0.100414  0.480385\n",
       "2   2.761305  2.002120\n",
       "3   0.126874  1.660773\n",
       "4   1.494229 -0.719470\n",
       "5   0.851975 -0.010160\n",
       "6   0.541923  0.923739\n",
       "7   0.196815  0.995548\n",
       "8  -0.992641  1.105567\n",
       "9   0.222253 -0.907389\n",
       "10  0.137334  0.118111"
      ]
     },
     "execution_count": 44,
     "metadata": {},
     "output_type": "execute_result"
    }
   ],
   "source": [
    "d[['sin', 'cos']]"
   ]
  }
 ],
 "metadata": {
  "kernelspec": {
   "display_name": "Python 3 (ipykernel)",
   "language": "python",
   "name": "python3"
  },
  "language_info": {
   "codemirror_mode": {
    "name": "ipython",
    "version": 3
   },
   "file_extension": ".py",
   "mimetype": "text/x-python",
   "name": "python",
   "nbconvert_exporter": "python",
   "pygments_lexer": "ipython3",
   "version": "3.12.5"
  }
 },
 "nbformat": 4,
 "nbformat_minor": 5
}
