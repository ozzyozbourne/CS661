{
 "cells": [
  {
   "cell_type": "markdown",
   "id": "4baf3484-d3e7-4d8d-9760-6d5054f463a1",
   "metadata": {},
   "source": [
    "### Mid-term EDA"
   ]
  },
  {
   "cell_type": "code",
   "execution_count": 1,
   "id": "d535826a-d172-4c26-a389-80af99a59688",
   "metadata": {},
   "outputs": [],
   "source": [
    "#import for eda\n",
    "import pandas as pd\n",
    "import numpy as np\n",
    "import matplotlib.pyplot as plt\n",
    "import seaborn as sns\n",
    "import functions as fn\n",
    "\n",
    "#creating object that has all the function for eda\n",
    "eda = fn.EDA(pd, np, plt, sns)"
   ]
  },
  {
   "cell_type": "markdown",
   "id": "bd2e583b-eb6c-44cd-8e8b-d2b30a5716f0",
   "metadata": {},
   "source": [
    "#### Describing the data type of each columns"
   ]
  },
  {
   "cell_type": "code",
   "execution_count": 2,
   "id": "d7402270-2e6c-4053-9c19-5f58a205fe6b",
   "metadata": {},
   "outputs": [
    {
     "name": "stdout",
     "output_type": "stream",
     "text": [
      "<class 'pandas.core.frame.DataFrame'>\n",
      "RangeIndex: 136 entries, 0 to 135\n",
      "Data columns (total 9 columns):\n",
      " #   Column             Non-Null Count  Dtype \n",
      "---  ------             --------------  ----- \n",
      " 0   gameId             136 non-null    int64 \n",
      " 1   season             136 non-null    int64 \n",
      " 2   week               136 non-null    int64 \n",
      " 3   gameDate           136 non-null    object\n",
      " 4   gameTimeEastern    136 non-null    object\n",
      " 5   homeTeamAbbr       136 non-null    object\n",
      " 6   visitorTeamAbbr    136 non-null    object\n",
      " 7   homeFinalScore     136 non-null    int64 \n",
      " 8   visitorFinalScore  136 non-null    int64 \n",
      "dtypes: int64(5), object(4)\n",
      "memory usage: 9.7+ KB\n",
      "\n",
      "None\n",
      "\n",
      "<class 'pandas.core.frame.DataFrame'>\n",
      "RangeIndex: 16124 entries, 0 to 16123\n",
      "Data columns (total 50 columns):\n",
      " #   Column                            Non-Null Count  Dtype  \n",
      "---  ------                            --------------  -----  \n",
      " 0   gameId                            16124 non-null  int64  \n",
      " 1   playId                            16124 non-null  int64  \n",
      " 2   playDescription                   16124 non-null  object \n",
      " 3   quarter                           16124 non-null  int64  \n",
      " 4   down                              16124 non-null  int64  \n",
      " 5   yardsToGo                         16124 non-null  int64  \n",
      " 6   possessionTeam                    16124 non-null  object \n",
      " 7   defensiveTeam                     16124 non-null  object \n",
      " 8   yardlineSide                      15900 non-null  object \n",
      " 9   yardlineNumber                    16124 non-null  int64  \n",
      " 10  gameClock                         16124 non-null  object \n",
      " 11  preSnapHomeScore                  16124 non-null  int64  \n",
      " 12  preSnapVisitorScore               16124 non-null  int64  \n",
      " 13  playNullifiedByPenalty            16124 non-null  object \n",
      " 14  absoluteYardlineNumber            16124 non-null  int64  \n",
      " 15  preSnapHomeTeamWinProbability     16124 non-null  float64\n",
      " 16  preSnapVisitorTeamWinProbability  16124 non-null  float64\n",
      " 17  expectedPoints                    16124 non-null  float64\n",
      " 18  offenseFormation                  15936 non-null  object \n",
      " 19  receiverAlignment                 15936 non-null  object \n",
      " 20  playClockAtSnap                   16123 non-null  float64\n",
      " 21  passResult                        9736 non-null   object \n",
      " 22  passLength                        8726 non-null   float64\n",
      " 23  targetX                           8376 non-null   float64\n",
      " 24  targetY                           8376 non-null   float64\n",
      " 25  playAction                        16124 non-null  bool   \n",
      " 26  dropbackType                      10321 non-null  object \n",
      " 27  dropbackDistance                  10158 non-null  float64\n",
      " 28  passLocationType                  9312 non-null   object \n",
      " 29  timeToThrow                       8705 non-null   float64\n",
      " 30  timeInTackleBox                   8917 non-null   float64\n",
      " 31  timeToSack                        608 non-null    float64\n",
      " 32  passTippedAtLine                  9336 non-null   object \n",
      " 33  unblockedPressure                 9755 non-null   object \n",
      " 34  qbSpike                           9336 non-null   object \n",
      " 35  qbKneel                           16124 non-null  int64  \n",
      " 36  qbSneak                           6788 non-null   object \n",
      " 37  rushLocationType                  6788 non-null   object \n",
      " 38  penaltyYards                      384 non-null    float64\n",
      " 39  prePenaltyYardsGained             16124 non-null  int64  \n",
      " 40  yardsGained                       16124 non-null  int64  \n",
      " 41  homeTeamWinProbabilityAdded       16124 non-null  float64\n",
      " 42  visitorTeamWinProbilityAdded      16124 non-null  float64\n",
      " 43  expectedPointsAdded               16124 non-null  float64\n",
      " 44  isDropback                        16124 non-null  bool   \n",
      " 45  pff_runConceptPrimary             9071 non-null   object \n",
      " 46  pff_runConceptSecondary           2821 non-null   object \n",
      " 47  pff_runPassOption                 16124 non-null  int64  \n",
      " 48  pff_passCoverage                  15932 non-null  object \n",
      " 49  pff_manZone                       15932 non-null  object \n",
      "dtypes: bool(2), float64(15), int64(13), object(20)\n",
      "memory usage: 5.9+ MB\n",
      "\n",
      "None\n",
      "\n",
      "<class 'pandas.core.frame.DataFrame'>\n",
      "RangeIndex: 1697 entries, 0 to 1696\n",
      "Data columns (total 7 columns):\n",
      " #   Column       Non-Null Count  Dtype \n",
      "---  ------       --------------  ----- \n",
      " 0   nflId        1697 non-null   int64 \n",
      " 1   height       1697 non-null   object\n",
      " 2   weight       1697 non-null   int64 \n",
      " 3   birthDate    1210 non-null   object\n",
      " 4   collegeName  1697 non-null   object\n",
      " 5   position     1697 non-null   object\n",
      " 6   displayName  1697 non-null   object\n",
      "dtypes: int64(2), object(5)\n",
      "memory usage: 92.9+ KB\n",
      "\n",
      "None\n",
      "\n",
      "<class 'pandas.core.frame.DataFrame'>\n",
      "RangeIndex: 354727 entries, 0 to 354726\n",
      "Data columns (total 50 columns):\n",
      " #   Column                                      Non-Null Count   Dtype  \n",
      "---  ------                                      --------------   -----  \n",
      " 0   gameId                                      354727 non-null  int64  \n",
      " 1   playId                                      354727 non-null  int64  \n",
      " 2   nflId                                       354727 non-null  int64  \n",
      " 3   teamAbbr                                    354727 non-null  object \n",
      " 4   hadRushAttempt                              354727 non-null  int64  \n",
      " 5   rushingYards                                354727 non-null  int64  \n",
      " 6   hadDropback                                 354727 non-null  int64  \n",
      " 7   passingYards                                354727 non-null  int64  \n",
      " 8   sackYardsAsOffense                          354727 non-null  int64  \n",
      " 9   hadPassReception                            354727 non-null  int64  \n",
      " 10  receivingYards                              354727 non-null  int64  \n",
      " 11  wasTargettedReceiver                        354727 non-null  int64  \n",
      " 12  yardageGainedAfterTheCatch                  354727 non-null  int64  \n",
      " 13  fumbles                                     354727 non-null  int64  \n",
      " 14  fumbleLost                                  354727 non-null  int64  \n",
      " 15  fumbleOutOfBounds                           354727 non-null  int64  \n",
      " 16  assistedTackle                              354727 non-null  int64  \n",
      " 17  forcedFumbleAsDefense                       354727 non-null  int64  \n",
      " 18  halfSackYardsAsDefense                      354727 non-null  int64  \n",
      " 19  passDefensed                                354727 non-null  int64  \n",
      " 20  quarterbackHit                              354727 non-null  int64  \n",
      " 21  sackYardsAsDefense                          354727 non-null  int64  \n",
      " 22  safetyAsDefense                             354727 non-null  int64  \n",
      " 23  soloTackle                                  354727 non-null  int64  \n",
      " 24  tackleAssist                                354727 non-null  int64  \n",
      " 25  tackleForALoss                              354727 non-null  int64  \n",
      " 26  tackleForALossYardage                       354727 non-null  int64  \n",
      " 27  hadInterception                             354727 non-null  int64  \n",
      " 28  interceptionYards                           354727 non-null  int64  \n",
      " 29  fumbleRecoveries                            354727 non-null  int64  \n",
      " 30  fumbleRecoveryYards                         354727 non-null  int64  \n",
      " 31  penaltyYards                                354727 non-null  int64  \n",
      " 32  penaltyNames                                376 non-null     object \n",
      " 33  wasInitialPassRusher                        107280 non-null  float64\n",
      " 34  causedPressure                              354727 non-null  bool   \n",
      " 35  timeToPressureAsPassRusher                  4328 non-null    float64\n",
      " 36  getOffTimeAsPassRusher                      48032 non-null   float64\n",
      " 37  inMotionAtBallSnap                          107848 non-null  object \n",
      " 38  shiftSinceLineset                           176178 non-null  object \n",
      " 39  motionSinceLineset                          90238 non-null   object \n",
      " 40  wasRunningRoute                             42779 non-null   float64\n",
      " 41  routeRan                                    42779 non-null   object \n",
      " 42  blockedPlayerNFLId1                         49104 non-null   float64\n",
      " 43  blockedPlayerNFLId2                         4373 non-null    float64\n",
      " 44  blockedPlayerNFLId3                         7 non-null       float64\n",
      " 45  pressureAllowedAsBlocker                    53044 non-null   float64\n",
      " 46  timeToPressureAllowedAsBlocker              4080 non-null    float64\n",
      " 47  pff_defensiveCoverageAssignment             65774 non-null   object \n",
      " 48  pff_primaryDefensiveCoverageMatchupNflId    43484 non-null   float64\n",
      " 49  pff_secondaryDefensiveCoverageMatchupNflId  2387 non-null    float64\n",
      "dtypes: bool(1), float64(11), int64(31), object(7)\n",
      "memory usage: 132.9+ MB\n",
      "\n",
      "None\n",
      "\n"
     ]
    }
   ],
   "source": [
    "eda.describeColumns()"
   ]
  },
  {
   "cell_type": "markdown",
   "id": "bd34d0e8-95cc-43d2-8af7-2b59bd11ead5",
   "metadata": {},
   "source": [
    "### Cleaning the data by removing all the columns that have null values "
   ]
  },
  {
   "cell_type": "code",
   "execution_count": 3,
   "id": "717a173b-a1e4-46cc-a80f-f856a00d9644",
   "metadata": {},
   "outputs": [
    {
     "name": "stdout",
     "output_type": "stream",
     "text": [
      "Droping null values cols using the dropna function\n",
      "\n",
      "In games table\n",
      "\n"
     ]
    },
    {
     "ename": "NameError",
     "evalue": "name 'getDf' is not defined",
     "output_type": "error",
     "traceback": [
      "\u001b[0;31m---------------------------------------------------------------------------\u001b[0m",
      "\u001b[0;31mNameError\u001b[0m                                 Traceback (most recent call last)",
      "Cell \u001b[0;32mIn[3], line 1\u001b[0m\n\u001b[0;32m----> 1\u001b[0m eda\u001b[38;5;241m.\u001b[39mremoveAllNullValues()\n",
      "File \u001b[0;32m~/Documents/CS661/midterm/functions.py:31\u001b[0m, in \u001b[0;36mEDA.removeAllNullValues\u001b[0;34m(self)\u001b[0m\n\u001b[1;32m     29\u001b[0m \u001b[38;5;28;01mfor\u001b[39;00m name \u001b[38;5;129;01min\u001b[39;00m [\u001b[38;5;124m'\u001b[39m\u001b[38;5;124mgames\u001b[39m\u001b[38;5;124m'\u001b[39m, \u001b[38;5;124m'\u001b[39m\u001b[38;5;124mplays\u001b[39m\u001b[38;5;124m'\u001b[39m, \u001b[38;5;124m'\u001b[39m\u001b[38;5;124mplayers\u001b[39m\u001b[38;5;124m'\u001b[39m, \u001b[38;5;124m'\u001b[39m\u001b[38;5;124mplayer_play\u001b[39m\u001b[38;5;124m'\u001b[39m]:\n\u001b[1;32m     30\u001b[0m     \u001b[38;5;28mprint\u001b[39m(\u001b[38;5;124mf\u001b[39m\u001b[38;5;124m'\u001b[39m\u001b[38;5;130;01m\\n\u001b[39;00m\u001b[38;5;124mIn \u001b[39m\u001b[38;5;132;01m{\u001b[39;00mname\u001b[38;5;132;01m}\u001b[39;00m\u001b[38;5;124m table\u001b[39m\u001b[38;5;130;01m\\n\u001b[39;00m\u001b[38;5;124m'\u001b[39m)\n\u001b[0;32m---> 31\u001b[0m     df \u001b[38;5;241m=\u001b[39m getDf(name)\n\u001b[1;32m     32\u001b[0m     \u001b[38;5;28;01mif\u001b[39;00m df\u001b[38;5;241m.\u001b[39misnull()\u001b[38;5;241m.\u001b[39many()\u001b[38;5;241m.\u001b[39many():\n\u001b[1;32m     33\u001b[0m         \u001b[38;5;28mprint\u001b[39m(\u001b[38;5;124m\"\u001b[39m\u001b[38;5;124mDroping cols -> \u001b[39m\u001b[38;5;130;01m\\n\u001b[39;00m\u001b[38;5;124m\"\u001b[39m)\n",
      "\u001b[0;31mNameError\u001b[0m: name 'getDf' is not defined"
     ]
    }
   ],
   "source": [
    "eda.removeAllNullValues()"
   ]
  },
  {
   "cell_type": "markdown",
   "id": "3577099d-553f-4c30-917e-eda44a7d7a71",
   "metadata": {},
   "source": [
    "### Describing the all the csv tables after pre-processing"
   ]
  },
  {
   "cell_type": "code",
   "execution_count": null,
   "id": "c74bf018-754e-4063-b87a-07b688f3a72b",
   "metadata": {},
   "outputs": [],
   "source": [
    "eda.descTable('games')"
   ]
  },
  {
   "cell_type": "code",
   "execution_count": null,
   "id": "023fd47d-f374-4043-813d-1c9d9c1cc392",
   "metadata": {},
   "outputs": [],
   "source": [
    "eda.descTable('plays')"
   ]
  },
  {
   "cell_type": "code",
   "execution_count": null,
   "id": "07b54f14-6b8a-48d5-9919-805378befa82",
   "metadata": {},
   "outputs": [],
   "source": [
    "eda.descTable('players')"
   ]
  },
  {
   "cell_type": "code",
   "execution_count": null,
   "id": "78f2912f-a4d3-41ef-9abb-2b32c248c3ba",
   "metadata": {},
   "outputs": [],
   "source": [
    "eda.descTable('player_play')"
   ]
  },
  {
   "cell_type": "markdown",
   "id": "21a68e68-3ced-4ef8-afe1-9516c40ded1d",
   "metadata": {},
   "source": [
    "#### Begining The EDA "
   ]
  },
  {
   "cell_type": "markdown",
   "id": "ddde220d-6e47-437b-a3b8-ec71da3680c6",
   "metadata": {},
   "source": [
    "#### Outlier Detection in all the tables "
   ]
  },
  {
   "cell_type": "code",
   "execution_count": null,
   "id": "5942ebe8-c83f-4697-9860-66d0e34b8ea1",
   "metadata": {},
   "outputs": [],
   "source": [
    "eda.plottingOutliers('games')"
   ]
  },
  {
   "cell_type": "code",
   "execution_count": null,
   "id": "bd70d254-0b2e-4b56-8a38-da4d3c148009",
   "metadata": {},
   "outputs": [],
   "source": [
    "eda.plottingOutliers('plays')"
   ]
  },
  {
   "cell_type": "code",
   "execution_count": null,
   "id": "1fc4faf7-2bb9-42d8-a835-995e6d9100c0",
   "metadata": {},
   "outputs": [],
   "source": [
    "eda.plottingOutliers('players')"
   ]
  },
  {
   "cell_type": "code",
   "execution_count": null,
   "id": "634fa4a0-8c98-4a48-91f6-7eae66c6bf4e",
   "metadata": {},
   "outputs": [],
   "source": [
    "eda.plottingOutliers('player_play')"
   ]
  },
  {
   "cell_type": "code",
   "execution_count": null,
   "id": "6189af64-a816-4c60-8259-5a1ca475c183",
   "metadata": {},
   "outputs": [],
   "source": [
    "eda.featureRelationships('games')"
   ]
  },
  {
   "cell_type": "code",
   "execution_count": null,
   "id": "9e47f4c5-a8f6-46fc-883c-9872e373b780",
   "metadata": {},
   "outputs": [],
   "source": [
    "eda.featureRelationships('plays')"
   ]
  },
  {
   "cell_type": "code",
   "execution_count": null,
   "id": "9b1c4f85-4397-47fe-ac3b-9000ff5eb169",
   "metadata": {},
   "outputs": [],
   "source": [
    "eda.featureRelationships('players')"
   ]
  },
  {
   "cell_type": "code",
   "execution_count": null,
   "id": "43e573d8-4fa9-4211-b5ee-8c3c16aceca8",
   "metadata": {},
   "outputs": [],
   "source": [
    "eda.featureRelationships('player_play')"
   ]
  },
  {
   "cell_type": "code",
   "execution_count": null,
   "id": "ea5e40af-c3dd-4b22-98e2-b57bab5dc595",
   "metadata": {},
   "outputs": [],
   "source": [
    "eda.correlationAnalysis('games')"
   ]
  },
  {
   "cell_type": "code",
   "execution_count": null,
   "id": "6f2632ea-8613-43b2-94c2-8045912912ae",
   "metadata": {},
   "outputs": [],
   "source": [
    "eda.correlationAnalysis('plays')"
   ]
  },
  {
   "cell_type": "code",
   "execution_count": null,
   "id": "86ee84f9-dd95-4ebd-92f5-d0984843c03f",
   "metadata": {},
   "outputs": [],
   "source": [
    "eda.correlationAnalysis('players')"
   ]
  },
  {
   "cell_type": "code",
   "execution_count": null,
   "id": "f5f05b9c-a596-41d9-ace7-8b2f46981185",
   "metadata": {},
   "outputs": [],
   "source": [
    "eda.correlationAnalysis('player_play')"
   ]
  }
 ],
 "metadata": {
  "kernelspec": {
   "display_name": "Python 3 (ipykernel)",
   "language": "python",
   "name": "python3"
  },
  "language_info": {
   "codemirror_mode": {
    "name": "ipython",
    "version": 3
   },
   "file_extension": ".py",
   "mimetype": "text/x-python",
   "name": "python",
   "nbconvert_exporter": "python",
   "pygments_lexer": "ipython3",
   "version": "3.12.5"
  }
 },
 "nbformat": 4,
 "nbformat_minor": 5
}
