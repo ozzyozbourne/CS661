{
 "cells": [
  {
   "cell_type": "code",
   "execution_count": 2,
   "id": "d535826a-d172-4c26-a389-80af99a59688",
   "metadata": {},
   "outputs": [],
   "source": [
    "#import for eda\n",
    "import pandas as pd\n",
    "import numpy as np\n",
    "import matplotlib.pyplot as plt\n",
    "import seaborn as sns"
   ]
  },
  {
   "cell_type": "code",
   "execution_count": 4,
   "id": "4354fe18-c115-44a5-bd60-25ab7863b098",
   "metadata": {},
   "outputs": [
    {
     "data": {
      "text/plain": [
       "<functions.EDA at 0x1302b7b90>"
      ]
     },
     "execution_count": 4,
     "metadata": {},
     "output_type": "execute_result"
    }
   ],
   "source": [
    "import functions as fn\n",
    "eda = fn.EDA(pd, np, plt, sns, 'dataset/games.csv', 'dataset/plays.csv', 'dataset/players.csv', 'dataset/players.csv')\n",
    "eda.games"
   ]
  },
  {
   "cell_type": "code",
   "execution_count": 2,
   "id": "6be263c8-a7b1-4602-b1a8-dd558e7d4c31",
   "metadata": {},
   "outputs": [
    {
     "name": "stdout",
     "output_type": "stream",
     "text": [
      "Hi there\n"
     ]
    }
   ],
   "source": []
  },
  {
   "cell_type": "code",
   "execution_count": null,
   "id": "1ce17366-1707-421b-a63d-8c05ae777a92",
   "metadata": {},
   "outputs": [],
   "source": []
  }
 ],
 "metadata": {
  "kernelspec": {
   "display_name": "Python 3 (ipykernel)",
   "language": "python",
   "name": "python3"
  },
  "language_info": {
   "codemirror_mode": {
    "name": "ipython",
    "version": 3
   },
   "file_extension": ".py",
   "mimetype": "text/x-python",
   "name": "python",
   "nbconvert_exporter": "python",
   "pygments_lexer": "ipython3",
   "version": "3.12.5"
  }
 },
 "nbformat": 4,
 "nbformat_minor": 5
}
