{
 "cells": [
  {
   "cell_type": "code",
   "execution_count": 1,
   "id": "11207467-f37c-4a1b-b7d3-402290f7a466",
   "metadata": {},
   "outputs": [],
   "source": [
    "import pandas as pd\n",
    "\n",
    "# Load the datasets\n",
    "games = pd.read_csv('games.csv')\n",
    "players = pd.read_csv('players.csv')\n",
    "player_play = pd.read_csv('player_play.csv')\n",
    "plays = pd.read_csv('plays.csv')\n",
    "\n",
    "# Step 1: Merge the datasets\n",
    "# Merge player_play with plays to get play details\n",
    "player_play_merged = player_play.merge(plays, on=['gameId', 'playId'])\n",
    "\n",
    "# Merge with players to get player details\n",
    "player_play_merged = player_play_merged.merge(players, on='nflId')\n",
    "\n",
    "# Merge with games to get game outcomes\n",
    "combined_data = player_play_merged.merge(games, on='gameId')"
   ]
  },
  {
   "cell_type": "code",
   "execution_count": 2,
   "id": "30ce80d6-2dc2-492f-a73a-0aedc40ff08b",
   "metadata": {},
   "outputs": [
    {
     "name": "stdout",
     "output_type": "stream",
     "text": [
      "   nflId  total_rushing_yards  total_passing_yards  total_plays\n",
      "0  33084                   12                  352           90\n",
      "1  34452                    2                  232           64\n",
      "2  35443                    0                    0           64\n",
      "3  35449                    0                    0           32\n",
      "4  35452                    0                    0           28\n"
     ]
    },
    {
     "name": "stderr",
     "output_type": "stream",
     "text": [
      "/var/folders/8y/m7b7vwqn1gq3s5gg_9vtr5b80000gn/T/ipykernel_48114/3275139307.py:19: FutureWarning: A value is trying to be set on a copy of a DataFrame or Series through chained assignment using an inplace method.\n",
      "The behavior will change in pandas 3.0. This inplace method will never work because the intermediate object on which we are setting values always behaves as a copy.\n",
      "\n",
      "For example, when doing 'df[col].method(value, inplace=True)', try using 'df.method({col: value}, inplace=True)' or df[col] = df[col].method(value) instead, to perform the operation inplace on the original object.\n",
      "\n",
      "\n",
      "  combined_data['average_yards_gained'].replace([float('inf'), -float('inf')], 0, inplace=True)\n"
     ]
    }
   ],
   "source": [
    "# Step 3: Key Metrics and Features\n",
    "# Calculate total rushing yards and passing yards per player\n",
    "aggregate_metrics = combined_data.groupby('nflId').agg(\n",
    "    total_rushing_yards=pd.NamedAgg(column='rushingYards', aggfunc='sum'),\n",
    "    total_passing_yards=pd.NamedAgg(column='passingYards', aggfunc='sum'),\n",
    "    total_plays=pd.NamedAgg(column='playId', aggfunc='count')\n",
    ").reset_index()\n",
    "\n",
    "# Count the number of plays for each game without conflicting names\n",
    "play_counts = combined_data.groupby('gameId')['playId'].count().reset_index(name='play_count')\n",
    "\n",
    "# Merge play counts back into the combined_data (avoid naming conflicts)\n",
    "combined_data = combined_data.merge(play_counts, on='gameId', how='left', suffixes=('', '_y'))\n",
    "\n",
    "# Calculate average yards gained per play, handle division by zero\n",
    "combined_data['average_yards_gained'] = combined_data['yardsGained'] / combined_data['play_count']\n",
    "\n",
    "# Replace infinity values with 0\n",
    "combined_data['average_yards_gained'].replace([float('inf'), -float('inf')], 0, inplace=True)\n",
    "\n",
    "# Create additional features: total scores per game\n",
    "total_scores = combined_data.groupby('gameId').agg(\n",
    "    home_final_score=pd.NamedAgg(column='homeFinalScore', aggfunc='first'),\n",
    "    visitor_final_score=pd.NamedAgg(column='visitorFinalScore', aggfunc='first')\n",
    ").reset_index()\n",
    "\n",
    "# Rename the score columns to avoid conflicts\n",
    "total_scores.rename(columns={\n",
    "    'home_final_score': 'home_final_score_new',\n",
    "    'visitor_final_score': 'visitor_final_score_new'\n",
    "}, inplace=True)\n",
    "\n",
    "# Merge total scores back into the combined data\n",
    "combined_data = combined_data.merge(total_scores, on='gameId', how='left')\n",
    "\n",
    "# Display the final aggregated metrics and the combined dataset\n",
    "print(aggregate_metrics.head())\n"
   ]
  },
  {
   "cell_type": "code",
   "execution_count": 4,
   "id": "1cd87b15-6a6b-4dd9-95a3-e91178a58419",
   "metadata": {},
   "outputs": [
    {
     "name": "stdout",
     "output_type": "stream",
     "text": [
      "       gameId  nflId  average_yards_gained  home_final_score_new  \\\n",
      "0  2022090800  35472              0.002372                    10   \n",
      "1  2022090800  42392              0.002372                    10   \n",
      "2  2022090800  42489              0.002372                    10   \n",
      "3  2022090800  44875              0.002372                    10   \n",
      "4  2022090800  44985              0.002372                    10   \n",
      "\n",
      "   visitor_final_score_new  \n",
      "0                       31  \n",
      "1                       31  \n",
      "2                       31  \n",
      "3                       31  \n",
      "4                       31  \n"
     ]
    }
   ],
   "source": [
    "print(combined_data[['gameId', 'nflId', 'average_yards_gained', 'home_final_score_new', 'visitor_final_score_new']].head())"
   ]
  },
  {
   "cell_type": "code",
   "execution_count": 5,
   "id": "50f67890-13d6-4b8c-a7cf-89adb227c2f5",
   "metadata": {},
   "outputs": [
    {
     "ename": "NameError",
     "evalue": "name 'data' is not defined",
     "output_type": "error",
     "traceback": [
      "\u001b[0;31m---------------------------------------------------------------------------\u001b[0m",
      "\u001b[0;31mNameError\u001b[0m                                 Traceback (most recent call last)",
      "Cell \u001b[0;32mIn[5], line 1\u001b[0m\n\u001b[0;32m----> 1\u001b[0m \u001b[38;5;28mprint\u001b[39m(data\u001b[38;5;241m.\u001b[39minfo())\n",
      "\u001b[0;31mNameError\u001b[0m: name 'data' is not defined"
     ]
    }
   ],
   "source": [
    "print(data.info())"
   ]
  },
  {
   "cell_type": "code",
   "execution_count": null,
   "id": "0fb5d155-9562-488b-a853-27f109835915",
   "metadata": {},
   "outputs": [],
   "source": []
  }
 ],
 "metadata": {
  "kernelspec": {
   "display_name": "Python 3 (ipykernel)",
   "language": "python",
   "name": "python3"
  },
  "language_info": {
   "codemirror_mode": {
    "name": "ipython",
    "version": 3
   },
   "file_extension": ".py",
   "mimetype": "text/x-python",
   "name": "python",
   "nbconvert_exporter": "python",
   "pygments_lexer": "ipython3",
   "version": "3.12.5"
  }
 },
 "nbformat": 4,
 "nbformat_minor": 5
}
